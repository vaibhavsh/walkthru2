{
 "cells": [
  {
   "cell_type": "markdown",
   "id": "3b860a33-1a96-4d7a-932d-c7fb81b4f6cc",
   "metadata": {},
   "source": [
    "## Walkthru sample notebook"
   ]
  },
  {
   "cell_type": "code",
   "execution_count": null,
   "id": "4a531aae-ec7d-4e30-83ce-4b66465780c7",
   "metadata": {},
   "outputs": [],
   "source": []
  },
  {
   "cell_type": "markdown",
   "id": "7c042257-3072-4b5d-9d86-3bec64ea2be5",
   "metadata": {},
   "source": [
    "   Here is how I calculate 1+1:"
   ]
  },
  {
   "cell_type": "code",
   "execution_count": 1,
   "id": "f34a59ef-5ddb-4a42-8355-bea1b0463ac2",
   "metadata": {},
   "outputs": [
    {
     "data": {
      "text/plain": [
       "2"
      ]
     },
     "execution_count": 1,
     "metadata": {},
     "output_type": "execute_result"
    }
   ],
   "source": [
    "1+1"
   ]
  },
  {
   "cell_type": "code",
   "execution_count": 2,
   "id": "345ebc1b-3c7a-42d8-adf2-81f9d7fb2be9",
   "metadata": {},
   "outputs": [],
   "source": [
    "from numpy import *"
   ]
  },
  {
   "cell_type": "markdown",
   "id": "8a617726-2464-4059-af20-0ddd56242d3e",
   "metadata": {},
   "source": [
    "## Here is how I calcualte sin"
   ]
  },
  {
   "cell_type": "code",
   "execution_count": 4,
   "id": "0367a39d-0852-475f-96b8-25f563d47ab8",
   "metadata": {},
   "outputs": [
    {
     "data": {
      "text/plain": [
       "array([0.84147098, 1.        ])"
      ]
     },
     "execution_count": 4,
     "metadata": {},
     "output_type": "execute_result"
    }
   ],
   "source": [
    "a = array([1.0, pi/2])\n",
    "sin(a)"
   ]
  }
 ],
 "metadata": {
  "kernelspec": {
   "display_name": "Python 3 (ipykernel)",
   "language": "python",
   "name": "python3"
  },
  "language_info": {
   "codemirror_mode": {
    "name": "ipython",
    "version": 3
   },
   "file_extension": ".py",
   "mimetype": "text/x-python",
   "name": "python",
   "nbconvert_exporter": "python",
   "pygments_lexer": "ipython3",
   "version": "3.9.13"
  }
 },
 "nbformat": 4,
 "nbformat_minor": 5
}
